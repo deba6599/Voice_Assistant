{
 "cells": [
  {
   "cell_type": "code",
   "execution_count": 7,
   "metadata": {},
   "outputs": [
    {
     "name": "stdout",
     "output_type": "stream",
     "text": [
      "HKEY_LOCAL_MACHINE\\SOFTWARE\\Microsoft\\Speech\\Voices\\Tokens\\TTS_MS_EN-US_DAVID_11.0\n",
      "Listening....\n",
      "Done\n",
      "Recognizing...\n",
      "path to product the reproduction is oxidation and reduction by doing so actually Aluminium oxide\n",
      "\n"
     ]
    }
   ],
   "source": [
    "import pyttsx3\n",
    "import speech_recognition as sr\n",
    "\n",
    "engine = pyttsx3.init('sapi5')\n",
    "voices = engine.getProperty('voices')\n",
    "print(voices[0].id)\n",
    "engine.setProperty('voice',voices[0].id)\n",
    "\n",
    "def speak(audio):\n",
    "    engine.say(audio)\n",
    "    engine.runAndWait()\n",
    "    \n",
    "def takeCommand():\n",
    "    # it takes microphone input from speaker and return string output\n",
    "    r = sr.Recognizer()\n",
    "    with sr.Microphone() as source:\n",
    "        speak(\"Please Command\")\n",
    "        print(\"Listening....\")\n",
    "        r.pause_threshold = 3\n",
    "        r.adjust_for_ambient_noise(source, duration=1)\n",
    "        audio = r.listen(source,timeout=4)\n",
    "        print(\"Done\")\n",
    "\n",
    "    try:\n",
    "        print(\"Recognizing...\")\n",
    "        asked = r.recognize_google(audio,language='en-in')\n",
    "        print(f\"{asked}\\n\")\n",
    "\n",
    "    except Exception as e:\n",
    "        print(e)\n",
    "        print(\"Say that again please...\")\n",
    "        return \"None\"\n",
    "\n",
    "    return asked\n",
    "\n",
    "if __name__ == '__main__':\n",
    "    #while True:\n",
    "    #if 2:\n",
    "    for i in range(1):\n",
    "        query = takeCommand().lower()\n",
    "        \n",
    "        text_file = open(\"Output.txt\", \"a\")\n",
    "        text_file.write(f\"\\n{query}\")\n",
    "        text_file.close()\n",
    "        "
   ]
  },
  {
   "cell_type": "code",
   "execution_count": null,
   "metadata": {},
   "outputs": [],
   "source": []
  }
 ],
 "metadata": {
  "kernelspec": {
   "display_name": "Python 3",
   "language": "python",
   "name": "python3"
  },
  "language_info": {
   "codemirror_mode": {
    "name": "ipython",
    "version": 3
   },
   "file_extension": ".py",
   "mimetype": "text/x-python",
   "name": "python",
   "nbconvert_exporter": "python",
   "pygments_lexer": "ipython3",
   "version": "3.8.4"
  }
 },
 "nbformat": 4,
 "nbformat_minor": 4
}
